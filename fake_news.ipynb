{
  "nbformat": 4,
  "nbformat_minor": 0,
  "metadata": {
    "colab": {
      "provenance": []
    },
    "kernelspec": {
      "name": "python3",
      "display_name": "Python 3"
    },
    "language_info": {
      "name": "python"
    }
  },
  "cells": [
    {
      "cell_type": "code",
      "source": [
        "# Fake News Detection - FIXED Training Pipeline\n",
        "import numpy as np\n",
        "import pandas as pd\n",
        "import re\n",
        "import string\n",
        "import nltk\n",
        "from nltk.corpus import stopwords\n",
        "from sklearn.model_selection import train_test_split\n",
        "from sklearn.feature_extraction.text import TfidfVectorizer\n",
        "from sklearn.linear_model import LogisticRegression\n",
        "from sklearn.metrics import classification_report, accuracy_score, confusion_matrix\n",
        "import joblib\n",
        "import matplotlib.pyplot as plt\n",
        "import seaborn as sns\n",
        "\n",
        "# Download stopwords\n",
        "nltk.download('stopwords', quiet=True)\n",
        "stop_words = set(stopwords.words('english'))"
      ],
      "metadata": {
        "id": "QtywW5XqoCAJ"
      },
      "execution_count": 19,
      "outputs": []
    },
    {
      "cell_type": "code",
      "source": [
        "# ============================================================================\n",
        "# 1️⃣ LOAD DATASETS\n",
        "# ============================================================================\n",
        "\n",
        "\n",
        "data_True = pd.read_csv(\"True.csv\")\n",
        "data_Fake = pd.read_csv(\"Fake.csv\")\n",
        "\n",
        "print(f\"\\nTrue News Dataset: {data_True.shape}\")\n",
        "print(f\"Fake News Dataset: {data_Fake.shape}\")\n",
        "\n",
        "# Add labels\n",
        "data_True['label'] = 1  # 1 = Real News\n",
        "data_Fake['label'] = 0  # 0 = Fake News\n",
        "\n",
        "# Combine datasets\n",
        "data = pd.concat([data_True, data_Fake], ignore_index=True, axis=0)\n",
        "\n",
        "# Shuffle data\n",
        "data = data.sample(frac=1, random_state=42).reset_index(drop=True)\n",
        "\n",
        "print(f\"\\nCombined Dataset: {data.shape}\")\n",
        "print(\"\\nClass Distribution:\")\n",
        "print(data['label'].value_counts())"
      ],
      "metadata": {
        "colab": {
          "base_uri": "https://localhost:8080/"
        },
        "id": "FGlyc4yToMpV",
        "outputId": "e04eecfb-1118-4992-9b9a-45c564323247"
      },
      "execution_count": 20,
      "outputs": [
        {
          "output_type": "stream",
          "name": "stdout",
          "text": [
            "\n",
            "True News Dataset: (21417, 4)\n",
            "Fake News Dataset: (23481, 4)\n",
            "\n",
            "Combined Dataset: (44898, 5)\n",
            "\n",
            "Class Distribution:\n",
            "label\n",
            "0    23481\n",
            "1    21417\n",
            "Name: count, dtype: int64\n"
          ]
        }
      ]
    },
    {
      "cell_type": "code",
      "source": [
        "# ============================================================================\n",
        "# 2️⃣ DATA PREPROCESSING\n",
        "# ============================================================================\n",
        "\n",
        "# Combine title and text\n",
        "data['Combined'] = data['title'].astype(str) + ' ' + data['text'].astype(str)\n",
        "\n",
        "# Text cleaning function\n",
        "def wordopt(text):\n",
        "    \"\"\"Clean and preprocess text data\"\"\"\n",
        "    text = text.lower()\n",
        "    text = re.sub('\\[.*?\\]', '', text)\n",
        "    text = re.sub('https?://\\S+|www\\.\\S+', '', text)\n",
        "    text = re.sub('<.*?>+', '', text)\n",
        "    text = re.sub('[%s]' % re.escape(string.punctuation), '', text)\n",
        "    text = re.sub('\\w*\\d\\w*', '', text)\n",
        "    text = re.sub(\"\\\\W\", \" \", text)\n",
        "\n",
        "    word_list = text.split()\n",
        "    text_clean = [word for word in word_list if word not in stop_words]\n",
        "\n",
        "    return ' '.join(text_clean)\n",
        "\n",
        "print(\"\\nCleaning text data...\")\n",
        "# CRITICAL FIX: Clean BEFORE splitting\n",
        "data['Combined'] = data['Combined'].apply(wordopt)\n",
        "\n",
        "print(\"Sample of cleaned text:\")\n",
        "print(data['Combined'].iloc[0][:200] + \"...\")"
      ],
      "metadata": {
        "colab": {
          "base_uri": "https://localhost:8080/"
        },
        "id": "gG89rK4eoQXw",
        "outputId": "d64d30af-3c46-4188-8f2a-bf21d3d0a4b3"
      },
      "execution_count": 21,
      "outputs": [
        {
          "output_type": "stream",
          "name": "stderr",
          "text": [
            "<>:12: SyntaxWarning: invalid escape sequence '\\['\n",
            "<>:13: SyntaxWarning: invalid escape sequence '\\S'\n",
            "<>:16: SyntaxWarning: invalid escape sequence '\\w'\n",
            "<>:12: SyntaxWarning: invalid escape sequence '\\['\n",
            "<>:13: SyntaxWarning: invalid escape sequence '\\S'\n",
            "<>:16: SyntaxWarning: invalid escape sequence '\\w'\n",
            "/tmp/ipython-input-2518051540.py:12: SyntaxWarning: invalid escape sequence '\\['\n",
            "  text = re.sub('\\[.*?\\]', '', text)\n",
            "/tmp/ipython-input-2518051540.py:13: SyntaxWarning: invalid escape sequence '\\S'\n",
            "  text = re.sub('https?://\\S+|www\\.\\S+', '', text)\n",
            "/tmp/ipython-input-2518051540.py:16: SyntaxWarning: invalid escape sequence '\\w'\n",
            "  text = re.sub('\\w*\\d\\w*', '', text)\n"
          ]
        },
        {
          "output_type": "stream",
          "name": "stdout",
          "text": [
            "\n",
            "Cleaning text data...\n",
            "Sample of cleaned text:\n",
            "breaking gop chairman grassley enough demands trump jr testimony donald trump white house chaos trying cover russia problems mounting hour refuse acknowledge problems surrounding fake news hoax howeve...\n"
          ]
        }
      ]
    },
    {
      "cell_type": "code",
      "source": [
        "# ============================================================================\n",
        "# 3️⃣ FEATURE EXTRACTION\n",
        "# ============================================================================\n",
        "\n",
        "# NOW use the cleaned data\n",
        "X = data['Combined']\n",
        "y = data['label']\n",
        "\n",
        "# Split data\n",
        "X_train, X_test, y_train, y_test = train_test_split(\n",
        "    X, y, test_size=0.25, random_state=42, stratify=y\n",
        ")\n",
        "\n",
        "print(f\"\\nTraining set: {X_train.shape[0]} samples\")\n",
        "print(f\"Testing set: {X_test.shape[0]} samples\")\n",
        "\n",
        "# TF-IDF Vectorization\n",
        "vectorization = TfidfVectorizer(max_features=5000)\n",
        "xv_train = vectorization.fit_transform(X_train)\n",
        "xv_test = vectorization.transform(X_test)\n",
        "\n",
        "print(f\"\\nTF-IDF features: {xv_train.shape[1]}\")"
      ],
      "metadata": {
        "colab": {
          "base_uri": "https://localhost:8080/"
        },
        "id": "M_it3YVioVZF",
        "outputId": "c7d4fbf7-acc9-4c89-e551-337ef4ad3a67"
      },
      "execution_count": 22,
      "outputs": [
        {
          "output_type": "stream",
          "name": "stdout",
          "text": [
            "\n",
            "Training set: 33673 samples\n",
            "Testing set: 11225 samples\n",
            "\n",
            "TF-IDF features: 5000\n"
          ]
        }
      ]
    },
    {
      "cell_type": "code",
      "source": [
        "# ============================================================================\n",
        "# 4️⃣ MODEL TRAINING\n",
        "# ============================================================================\n",
        "model = LogisticRegression(max_iter=1000, random_state=42)\n",
        "model.fit(xv_train, y_train)\n",
        "\n",
        "print(\"\\nModel trained successfully!\")"
      ],
      "metadata": {
        "colab": {
          "base_uri": "https://localhost:8080/"
        },
        "id": "FWI3YAbLoXFK",
        "outputId": "de0b3267-5c9a-4596-c83d-599393c3b4f1"
      },
      "execution_count": 23,
      "outputs": [
        {
          "output_type": "stream",
          "name": "stdout",
          "text": [
            "\n",
            "Model trained successfully!\n"
          ]
        }
      ]
    },
    {
      "cell_type": "code",
      "source": [
        "# ============================================================================\n",
        "# 5️⃣ MODEL EVALUATION\n",
        "# ============================================================================\n",
        "\n",
        "# Predictions\n",
        "pred_lr = model.predict(xv_test)\n",
        "pred_proba = model.predict_proba(xv_test)\n",
        "\n",
        "# Accuracy\n",
        "accuracy = accuracy_score(y_test, pred_lr)\n",
        "print(f\"\\nAccuracy: {accuracy:.4f} ({accuracy*100:.2f}%)\")\n",
        "\n",
        "# Classification Report\n",
        "print(\"\\nClassification Report:\")\n",
        "print(classification_report(y_test, pred_lr, target_names=['Fake News', 'Real News']))\n",
        "\n",
        "# Confusion Matrix\n",
        "cm = confusion_matrix(y_test, pred_lr)\n",
        "\n",
        "plt.figure(figsize=(8, 6))\n",
        "sns.heatmap(cm, annot=True, fmt='d', cmap='Blues',\n",
        "            xticklabels=['Fake News', 'Real News'],\n",
        "            yticklabels=['Fake News', 'Real News'])\n",
        "plt.title('Confusion Matrix', fontsize=14, fontweight='bold')\n",
        "plt.ylabel('True Label')\n",
        "plt.xlabel('Predicted Label')\n",
        "plt.tight_layout()\n",
        "plt.savefig('confusion_matrix.png', dpi=300, bbox_inches='tight')\n",
        "print(\"\\nConfusion matrix saved as 'confusion_matrix.png'\")\n",
        "plt.show()\n",
        "plt.close()"
      ],
      "metadata": {
        "colab": {
          "base_uri": "https://localhost:8080/",
          "height": 887
        },
        "id": "6zhaGkLWocC9",
        "outputId": "d25ebecd-9f1f-4b25-854b-60a869061e19"
      },
      "execution_count": 24,
      "outputs": [
        {
          "output_type": "stream",
          "name": "stdout",
          "text": [
            "\n",
            "Accuracy: 0.9873 (98.73%)\n",
            "\n",
            "Classification Report:\n",
            "              precision    recall  f1-score   support\n",
            "\n",
            "   Fake News       0.99      0.98      0.99      5871\n",
            "   Real News       0.98      0.99      0.99      5354\n",
            "\n",
            "    accuracy                           0.99     11225\n",
            "   macro avg       0.99      0.99      0.99     11225\n",
            "weighted avg       0.99      0.99      0.99     11225\n",
            "\n",
            "\n",
            "Confusion matrix saved as 'confusion_matrix.png'\n"
          ]
        },
        {
          "output_type": "display_data",
          "data": {
            "text/plain": [
              "<Figure size 800x600 with 2 Axes>"
            ],
            "image/png": "[encoded data removed]"
          },
          "metadata": {}
        }
      ]
    },
    {
      "cell_type": "code",
      "source": [
        "# ============================================================================\n",
        "# 6️⃣ SAVE MODEL AND VECTORIZER\n",
        "# ============================================================================\n",
        "print(\"\\n\" + \"=\" * 80)\n",
        "print(\"STEP 6: Saving Model and Vectorizer\")\n",
        "print(\"=\" * 80)\n",
        "\n",
        "# Save model\n",
        "joblib.dump(model, 'fake_news_model.pkl')\n",
        "print(\"Model saved: fake_news_model.pkl\")\n",
        "\n",
        "# Save vectorizer\n",
        "joblib.dump(vectorization, 'tfidf_vectorizer.pkl')\n",
        "print(\"Vectorizer saved: tfidf_vectorizer.pkl\")\n",
        "\n",
        "# Save stopwords for consistency\n",
        "joblib.dump(stop_words, 'stopwords.pkl')\n",
        "print(\"Stopwords saved: stopwords.pkl\")"
      ],
      "metadata": {
        "colab": {
          "base_uri": "https://localhost:8080/"
        },
        "id": "tNby-fx2ohot",
        "outputId": "99e9be2b-763f-47bf-a149-9e63af390467"
      },
      "execution_count": 25,
      "outputs": [
        {
          "output_type": "stream",
          "name": "stdout",
          "text": [
            "\n",
            "================================================================================\n",
            "STEP 6: Saving Model and Vectorizer\n",
            "================================================================================\n",
            "Model saved: fake_news_model.pkl\n",
            "Vectorizer saved: tfidf_vectorizer.pkl\n",
            "Stopwords saved: stopwords.pkl\n"
          ]
        }
      ]
    },
    {
      "cell_type": "code",
      "source": [
        "# ============================================================================\n",
        "# 7️⃣ TEST PREDICTION FUNCTION\n",
        "# ============================================================================\n",
        "print(\"\\n\" + \"=\" * 80)\n",
        "print(\"STEP 7: Testing Prediction Function\")\n",
        "print(\"=\" * 80)\n",
        "\n",
        "def predict_news(news_text):\n",
        "    \"\"\"Predict if news is fake or real\"\"\"\n",
        "    # Clean text\n",
        "    cleaned_text = wordopt(news_text)\n",
        "\n",
        "    # Vectorize\n",
        "    vectorized_text = vectorization.transform([cleaned_text])\n",
        "\n",
        "    # Predict\n",
        "    prediction = model.predict(vectorized_text)[0]\n",
        "    probability = model.predict_proba(vectorized_text)[0]\n",
        "\n",
        "    return prediction, probability\n",
        "\n",
        "# Test samples\n",
        "test_samples = [\n",
        "    (\"WASHINGTON (Reuters) - The head of a conservative Republican faction in the U.S. Congress on Friday demanded that President Donald Trump investigate whether former President Barack Obama abused his power.\", 1),\n",
        "    (\"Donald Trump just couldn't wish all Americans a Happy New Year and leave it at that. Instead, he had to give a shout out to his enemies, haters and the very dishonest fake news media. The former reality show star took to Twitter to tweet his greetings to Americans.\", 0),\n",
        "    (\"The Federal Reserve announced today that interest rates will remain unchanged following their monthly policy meeting. Economic indicators show steady growth.\", 1),\n",
        "]\n",
        "\n",
        "print(\"\\nTesting sample predictions:\")\n",
        "for i, (sample, true_label) in enumerate(test_samples, 1):\n",
        "    pred, prob = predict_news(sample)\n",
        "    label = \"Real News\" if pred == 1 else \"Fake News\"\n",
        "    true_label_str = \"Real News\" if true_label == 1 else \"Fake News\"\n",
        "    confidence = prob[pred] * 100\n",
        "    correct = \"✓\" if pred == true_label else \"✗\"\n",
        "\n",
        "    print(f\"\\n{i}. {sample[:60]}...\")\n",
        "    print(f\"   True: {true_label_str}\")\n",
        "    print(f\"   Predicted: {label} (Confidence: {confidence:.2f}%) {correct}\")"
      ],
      "metadata": {
        "colab": {
          "base_uri": "https://localhost:8080/"
        },
        "id": "KqmNHNnQom5c",
        "outputId": "46a160a3-adc9-48e6-ad8f-71f97fdff1b3"
      },
      "execution_count": 26,
      "outputs": [
        {
          "output_type": "stream",
          "name": "stdout",
          "text": [
            "\n",
            "================================================================================\n",
            "STEP 7: Testing Prediction Function\n",
            "================================================================================\n",
            "\n",
            "Testing sample predictions:\n",
            "\n",
            "1. WASHINGTON (Reuters) - The head of a conservative Republican...\n",
            "   True: Real News\n",
            "   Predicted: Real News (Confidence: 99.70%) ✓\n",
            "\n",
            "2. Donald Trump just couldn't wish all Americans a Happy New Ye...\n",
            "   True: Fake News\n",
            "   Predicted: Fake News (Confidence: 91.93%) ✓\n",
            "\n",
            "3. The Federal Reserve announced today that interest rates will...\n",
            "   True: Real News\n",
            "   Predicted: Fake News (Confidence: 78.29%) ✗\n"
          ]
        }
      ]
    },
    {
      "cell_type": "code",
      "source": [
        "# ============================================================================\n",
        "# 8️⃣ FINAL SUMMARY\n",
        "# ============================================================================\n",
        "print(\"\\n\" + \"=\" * 80)\n",
        "print(\"PROJECT SUMMARY\")\n",
        "print(\"=\" * 80)\n",
        "print(f\"\\nDataset Size: {len(data):,} articles\")\n",
        "print(f\"Real News: {(data['label']==1).sum():,} articles\")\n",
        "print(f\"Fake News: {(data['label']==0).sum():,} articles\")\n",
        "print(f\"\\nTraining Samples: {len(X_train):,}\")\n",
        "print(f\"Testing Samples: {len(X_test):,}\")\n",
        "print(f\"\\nModel Accuracy: {accuracy*100:.2f}%\")\n",
        "print(f\"\\nFiles Saved:\")\n",
        "print(\"  - fake_news_model.pkl\")\n",
        "print(\"  - tfidf_vectorizer.pkl\")\n",
        "print(\"  - stopwords.pkl\")\n",
        "print(\"  - confusion_matrix.png\")\n",
        "\n",
        "print(\"\\n\" + \"=\" * 80)\n",
        "print(\"TRAINING COMPLETE! Ready for deployment.\")\n",
        "print(\"=\" * 80)"
      ],
      "metadata": {
        "colab": {
          "base_uri": "https://localhost:8080/"
        },
        "id": "ryijYdqjkbQF",
        "outputId": "61b34d54-d64f-485d-e6b1-d824cfec6ca6"
      },
      "execution_count": 27,
      "outputs": [
        {
          "output_type": "stream",
          "name": "stdout",
          "text": [
            "\n",
            "================================================================================\n",
            "PROJECT SUMMARY\n",
            "================================================================================\n",
            "\n",
            "Dataset Size: 44,898 articles\n",
            "Real News: 21,417 articles\n",
            "Fake News: 23,481 articles\n",
            "\n",
            "Training Samples: 33,673\n",
            "Testing Samples: 11,225\n",
            "\n",
            "Model Accuracy: 98.73%\n",
            "\n",
            "Files Saved:\n",
            "  - fake_news_model.pkl\n",
            "  - tfidf_vectorizer.pkl\n",
            "  - stopwords.pkl\n",
            "  - confusion_matrix.png\n",
            "\n",
            "================================================================================\n",
            "TRAINING COMPLETE! Ready for deployment.\n",
            "================================================================================\n"
          ]
        }
      ]
    },
    {
      "cell_type": "code",
      "source": [],
      "metadata": {
        "id": "XqK6srqWlOHv"
      },
      "execution_count": null,
      "outputs": []
    }
  ]
}